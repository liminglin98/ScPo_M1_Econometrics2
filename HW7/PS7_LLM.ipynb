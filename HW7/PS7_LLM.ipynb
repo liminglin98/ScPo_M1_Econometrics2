{
 "cells": [
  {
   "cell_type": "code",
   "execution_count": 10,
   "id": "209b8b70",
   "metadata": {},
   "outputs": [],
   "source": [
    "#Load packages\n",
    "using DataFrames, CSV, Statistics, Distributions, GLM, Plots, Random, StatsModels, StatFiles, FixedEffectModels\n"
   ]
  },
  {
   "cell_type": "code",
   "execution_count": 12,
   "id": "96e78db9",
   "metadata": {},
   "outputs": [],
   "source": [
    "# Load DataFrames\n",
    "df = DataFrame(load(\"fulton.dta\"));"
   ]
  },
  {
   "cell_type": "markdown",
   "id": "aaa4960a",
   "metadata": {},
   "source": [
    "## Problem 1\n",
    "On the Fulton fish market about 35 different wholesale dealers sell fish to the customers that visit the market from Monday to Friday. There are no posted prices and dealers can (and do) charge different prices to different consumers. In this exercise you will analyze data which were recovered from a single dealer on the Fulton fish market. The data run from December 2nd, 1991 through May 8th, 1992 and record daily transactions in whiting. Whiting is a cheap fish which is oily and distinctive tasting. Whiting vary relatively little in size and quality, and there is probably little scope for substitution with other types of fish. Use fulton.dta. The dataset contains the quantity of whiting sold in pounds (qty) and the average (quantity weighted) prices in dollars per pound (price), information about the day of the week (Monday-Friday) and the weather conditions (stormy, mixed)"
   ]
  },
  {
   "cell_type": "markdown",
   "id": "4993bf2c",
   "metadata": {},
   "source": [
    "1.Write a two-equation system in “supply and demand form”, that is, with the same\n",
    "variable (typically, quantity) appearing on the left-hand side:\n",
    "$$\n",
    "qty = \\alpha_1 price + \\beta_1 z_1 + u_1 \\tag{1}\n",
    "$$\n",
    "$$\n",
    "qty = \\alpha_2 price + \\beta_2 z_2 + u_2 \\tag{2}\n",
    "$$\n",
    "If $\\alpha_1 = 0$ or $\\alpha_2 = 0$, explain why a reduced form exists for $qty$. (Remember, a reduced form expresses $qty$ as a linear function of the exogenous variables and the structural errors.) If $\\alpha_1 \\ne0$ and $\\alpha_2 = 0$, find the reduced form for price."
   ]
  },
  {
   "cell_type": "markdown",
   "id": "1f9ec4c4",
   "metadata": {},
   "source": [
    "Without loss of generality, we can assume that $\\alpha_2=0$ and $\\alpha_1 \\ne 0$ and then the functions can be reduced to\n",
    "$$\n",
    "qty = \\beta_2 z_2 + u_2\n",
    "$$\n",
    "Which is a reduced form for $qty$.\n",
    "\n",
    "\n",
    "Then we can equate the two equations to have:\n",
    "$$\n",
    "\\alpha_1 price + \\beta_1 z_1 + u_1 = \\beta_2 z_2 + u_2 \n",
    "$$\n",
    "And thus \n",
    "$$\n",
    "price = \\frac{\\beta_2 z_2 + u_2-\\beta_1 z_1 - u_1}{\\alpha_1}\n",
    "$$"
   ]
  },
  {
   "cell_type": "markdown",
   "id": "6b908463",
   "metadata": {},
   "source": [
    "2.If $\\alpha_1 \\ne 0$, $\\alpha_2 \\ne 0$ and $\\alpha_1 \\ne \\alpha_2$, find the reduced for for $qty$. Does price have a reduced form in this case?"
   ]
  },
  {
   "cell_type": "markdown",
   "id": "fc156680",
   "metadata": {},
   "source": [
    "From equation (1), we can rewrite it as a function of $price$:\n",
    "$$\n",
    "price = \\frac{qty-\\beta_1 z_1 - u_1}{\\alpha_1} \\tag{3}\n",
    "$$\n",
    "Then plug it into equation (2):\n",
    "$$\n",
    "\\begin{align*}\n",
    "qty &= \\alpha_2 \\frac{qty-\\beta_1 z_1 - u_1}{\\alpha_1} + \\beta_2 z_2 +u_2 \\\\\n",
    "&= \\frac{\\alpha_2}{\\alpha_1}qty-\\alpha_2 \\frac{\\beta_1 z_1 + u_1}{\\alpha_1}+\\beta_2 z_2 +u_2\\\\\n",
    "&= \\frac{-\\alpha_2 \\frac{\\beta_1 z_1 + u_1}{\\alpha_1}+\\beta_2 z_2 +u_2}{1-\\frac{\\alpha_2}{\\alpha_1}} \\tag{4}\n",
    "\\end{align*}\n",
    "$$\n",
    "Which is the reduced form for $qty$."
   ]
  },
  {
   "cell_type": "markdown",
   "id": "60f4baf0",
   "metadata": {},
   "source": [
    "We then plug equation (2) into equation (3):\n",
    "$$\n",
    "\\begin{align*}\n",
    "price = \\frac{\\alpha_2 price + \\beta_2 z_2 + u_2-\\beta_1 z_1 - u_1}{\\alpha_1}\n",
    "\\end{align*}\n",
    "$$\n",
    "Isolate $price$ to have:\n",
    "$$\n",
    "\\begin{align*}\n",
    "price &= \\frac{\\frac{\\beta_2 z_2 + u_2-\\beta_1 z_1 - u_1}{\\alpha_1}}{1-\\frac{\\alpha_2}{\\alpha_1}}\\\\\n",
    "&= \\frac{\\beta_2 z_2 + u_2-\\beta_1 z_1 - u_1}{\\alpha_1-\\alpha_2} \\tag{5}\n",
    "\\end{align*}\n",
    "$$\n",
    "Which is the reduced form for $price$."
   ]
  },
  {
   "cell_type": "markdown",
   "id": "7e9e990f",
   "metadata": {},
   "source": [
    "3.Is the condition $\\alpha_1 \\ne \\alpha_2$ likely to be met in supply and demand examples? Explain."
   ]
  },
  {
   "cell_type": "markdown",
   "id": "fe537edc",
   "metadata": {},
   "source": [
    "Yes, in reality it is very likely that the two coefficients are not the same. The reason is that the coefficient for price on quantity represents the elasticity, and that for demand and supply comes from very different sources. In the case of fish, the demand elasticity can be determined by factors like the preference for fish and other substitutes like meat and the supply elasticity can be determined by the operation and technology of the fishing industry."
   ]
  },
  {
   "cell_type": "markdown",
   "id": "4f8d2614",
   "metadata": {},
   "source": [
    "4.The following simultaneous equations model imposes the equilibrium condition that supply equals demand:\n",
    "$$\n",
    "qty = \\alpha_1 price +\\beta_1 stormy + u_1 \\tag{6}\n",
    "$$\n",
    "$$\n",
    "qty = \\alpha_2 price +\\beta_2 friday + u_2 \\tag{7}\n",
    "$$\n",
    "Which would you argue is the supply equation and which is the demand equation?\n",
    "Explain. In what follows suppose $\\beta_2 = 0$."
   ]
  },
  {
   "cell_type": "markdown",
   "id": "8c120822",
   "metadata": {},
   "source": [
    "Equation (6) should be the supply equation because when weather is stormy, it should be become hard to catch fish, reducing the supply. Equation (7) is the demand function because people might want more fish on Friday for some reason. \n",
    "\n",
    "$\\beta_2 = 0$ means that people's consumption of fish is the same on Friday compared to other days in a week."
   ]
  },
  {
   "cell_type": "markdown",
   "id": "1578f4db",
   "metadata": {},
   "source": [
    "5.Do the supply and demand equations satisfy the order condition for identification?"
   ]
  },
  {
   "cell_type": "markdown",
   "id": "af7213ab",
   "metadata": {},
   "source": [
    "Since we have two exogenous variables: stormy and friday, and also two endogenous variables, so $H=K$ which satisifies the condition for exact identification."
   ]
  },
  {
   "cell_type": "markdown",
   "id": "96e1bb58",
   "metadata": {},
   "source": [
    "7.Estimate reduced form equations for qty and price. Comment on the reduced form\n",
    "coefficients on stormy"
   ]
  },
  {
   "cell_type": "markdown",
   "id": "0bfe0ee5",
   "metadata": {},
   "source": [
    "Replace $z_1$ and $z_2$ with $stormy$ and $friday$ from the reduced form equations (4) and (5) and isolate the exogenous variables on the right hand sides to have:\n",
    "$$\n",
    "qty = -\\frac{\\alpha_2 \\beta_1}{\\alpha_1 - \\alpha_2}stormy +\\frac{\\alpha_1 \\beta_2}{\\alpha_1 - \\alpha_2}friday + u_{qty} \\tag{8}\n",
    "$$\n",
    "$$\n",
    "price = \\frac{\\beta_2}{\\alpha_1-\\alpha_2}friday - \\frac{\\beta_1}{\\alpha_1 - \\alpha_2}stormy + u_{price} \\tag{9}\n",
    "$$"
   ]
  },
  {
   "cell_type": "code",
   "execution_count": 6,
   "id": "e88816d4",
   "metadata": {},
   "outputs": [
    {
     "data": {
      "text/plain": [
       "StatsModels.TableRegressionModel{LinearModel{GLM.LmResp{Vector{Float64}}, GLM.DensePredChol{Float64, LinearAlgebra.CholeskyPivoted{Float64, Matrix{Float64}, Vector{Int64}}}}, Matrix{Float64}}\n",
       "\n",
       "qty ~ 1 + stormy + friday\n",
       "\n",
       "Coefficients:\n",
       "──────────────────────────────────────────────────────────────────────────\n",
       "                 Coef.  Std. Error      t  Pr(>|t|)  Lower 95%   Upper 95%\n",
       "──────────────────────────────────────────────────────────────────────────\n",
       "(Intercept)   8.58036    0.0892642  96.12    <1e-99   8.40342    8.7573\n",
       "stormy       -0.356755   0.151787   -2.35    0.0206  -0.657622  -0.0558871\n",
       "friday        0.221614   0.169636    1.31    0.1942  -0.114633   0.557861\n",
       "──────────────────────────────────────────────────────────────────────────"
      ]
     },
     "metadata": {},
     "output_type": "display_data"
    }
   ],
   "source": [
    "# Modify the data\n",
    "df.stormy = Float64.(df.stormy)\n",
    "df.friday = Float64.(df.friday)\n",
    "df.qty = Float64.(df.qty)\n",
    "\n",
    "# Estimate the supply function\n",
    "model_qty = lm(@formula(qty ~ stormy + friday),df)"
   ]
  },
  {
   "cell_type": "markdown",
   "id": "360d4ab2",
   "metadata": {},
   "source": [
    "For the stormy dummy variable, the coefficient is negative which matches the idea that during a stormy day the fish supply is decreased and it is also statistically significant at 5% level.\n",
    "\n",
    "For the friday dummy variable, the coefficient is positive which means more fish are supplied on Friday for some reason but it is not statistically significant so we cannot reject the null hypothesis that fish supply on Friday is not different from other days."
   ]
  },
  {
   "cell_type": "code",
   "execution_count": 7,
   "id": "0d0c160f",
   "metadata": {},
   "outputs": [
    {
     "data": {
      "text/plain": [
       "StatsModels.TableRegressionModel{LinearModel{GLM.LmResp{Vector{Float64}}, GLM.DensePredChol{Float64, LinearAlgebra.CholeskyPivoted{Float64, Matrix{Float64}, Vector{Int64}}}}, Matrix{Float64}}\n",
       "\n",
       "price ~ 1 + stormy + friday\n",
       "\n",
       "Coefficients:\n",
       "──────────────────────────────────────────────────────────────────────────\n",
       "                  Coef.  Std. Error      t  Pr(>|t|)  Lower 95%  Upper 95%\n",
       "──────────────────────────────────────────────────────────────────────────\n",
       "(Intercept)  -0.296184    0.0435453  -6.80    <1e-09  -0.382499  -0.20987\n",
       "stormy        0.336015    0.0740453   4.54    <1e-04   0.189245   0.482786\n",
       "friday        0.0271893   0.0827525   0.33    0.7431  -0.13684    0.191219\n",
       "──────────────────────────────────────────────────────────────────────────"
      ]
     },
     "metadata": {},
     "output_type": "display_data"
    }
   ],
   "source": [
    "# Modify the data\n",
    "df.price = Float64.(df.price)\n",
    "# Estimate the demand function\n",
    "model_price = lm(@formula(price ~ stormy + friday),df)"
   ]
  },
  {
   "cell_type": "markdown",
   "id": "be61dd5a",
   "metadata": {},
   "source": [
    "For the stormy dummy variable, the coefficient in positive and statistically significant, meaning that the price goes up on stormy day, which match the fact that the suply on stormy day will decrease.\n",
    "And the Friday dummy variable is positive but not statistically significant, meaning we cannot reject the null hypothesis that price on friday is different from the others."
   ]
  },
  {
   "cell_type": "markdown",
   "id": "5bafe75d",
   "metadata": {},
   "source": [
    "7.Divide the reduced form coefficient on stormy in the reduced form quantity equation\n",
    "by the reduced form coefficient on stormy in the reduced form price equation. What\n",
    "parameter are you estimating now? Interpret on the sign and size of this estimate."
   ]
  },
  {
   "cell_type": "markdown",
   "id": "50b894b6",
   "metadata": {},
   "source": [
    "From equation (8) and (9) we have:\n",
    "$$\n",
    "\\frac{-\\frac{\\alpha_2 \\beta_1}{\\alpha_1 - \\alpha_2}}{- \\frac{\\beta_1}{\\alpha_1 - \\alpha_2}}=\\alpha_2\n",
    "$$\n",
    "which is exactly the coefficient on price in the demand curve. The reason behind is that stormy shift the supply curve which help us identify the demand curve.\n",
    "\n",
    "\n",
    "Numerically: $-0.356755/0.336015=-1.0617$\n",
    "\n",
    "The sign is negative, meaning that when price increases, quantity demand decreases, matching the normal demand curve. And $1$ dollar per pound increase in price decreases the quantity demand by $-1.0617$ pounds."
   ]
  },
  {
   "cell_type": "markdown",
   "id": "a3cb63bc",
   "metadata": {},
   "source": [
    "8.Estimate the same parameter in (7) using 2SLS (-ivreg- in Stata)"
   ]
  },
  {
   "cell_type": "code",
   "execution_count": 11,
   "id": "5b559e6e",
   "metadata": {},
   "outputs": [
    {
     "data": {
      "text/plain": [
       "                             FixedEffectModel                             \n",
       "===========================================================================\n",
       "Number of obs:                   111   Converged:                      true\n",
       "dof (model):                       1   dof (residuals):                 108\n",
       "R²:                           -0.000   R² adjusted:                  -0.009\n",
       "F-statistic:                 5.40174   P-value:                       0.022\n",
       "F-statistic (first stage):   21.0696   P-value (first stage):         0.000\n",
       "===========================================================================\n",
       "             Estimate  Std. Error    t-stat  Pr(>|t|)  Lower 95%  Upper 95%\n",
       "───────────────────────────────────────────────────────────────────────────\n",
       "price        -1.08241    0.46572   -2.32416    0.0220   -2.00555  -0.159272\n",
       "(Intercept)   8.31379    0.114622  72.5319     <1e-92    8.08659   8.54099\n",
       "===========================================================================\n"
      ]
     },
     "metadata": {},
     "output_type": "display_data"
    }
   ],
   "source": [
    "# So we essentially treat stormy as a instrument for price.\n",
    "# Estimate the 2SLS model\n",
    "demand_2sls= reg(df, @formula(qty ~ (price ~ stormy)))"
   ]
  },
  {
   "cell_type": "markdown",
   "id": "0b8fa638",
   "metadata": {},
   "source": [
    "9.Can you find an explanation why we assumed that β2 = 0 (Hint: include it in the\n",
    "reduced form estimations)"
   ]
  },
  {
   "cell_type": "markdown",
   "id": "7be38ead",
   "metadata": {},
   "source": [
    "In the reduced form estimation we have the coefficients on Friday are given by:\n",
    "$$\n",
    "\\frac{\\alpha_1 \\beta_2}{\\alpha_1 - \\alpha_2}\\\\\n",
    "\\frac{\\beta_2}{\\alpha_1 - \\alpha_2}\n",
    "$$\n",
    "Since in the reduced form estimation we found that both coefficients are not significant, so it is safe to assume them to be $0$. To achieve this, we can assume $\\beta_2 = 0$."
   ]
  }
 ],
 "metadata": {
  "kernelspec": {
   "display_name": "Julia 1.11.3",
   "language": "julia",
   "name": "julia-1.11"
  },
  "language_info": {
   "file_extension": ".jl",
   "mimetype": "application/julia",
   "name": "julia",
   "version": "1.11.3"
  }
 },
 "nbformat": 4,
 "nbformat_minor": 5
}
