{
 "cells": [
  {
   "cell_type": "code",
   "execution_count": null,
   "id": "209b8b70",
   "metadata": {},
   "outputs": [],
   "source": [
    "#Load packages\n",
    "using DataFrames, CSV, Statistics, Distributions, GLM, Plots, Random, StatsModels, StatFiles, FixedEffectModels\n"
   ]
  },
  {
   "cell_type": "code",
   "execution_count": null,
   "id": "96e78db9",
   "metadata": {},
   "outputs": [],
   "source": [
    "# Load DataFrames\n",
    "df = DataFrame(load(\"fulton.dta\"));"
   ]
  },
  {
   "cell_type": "markdown",
   "id": "aaa4960a",
   "metadata": {},
   "source": [
    "## Problem 1\n",
    "On the Fulton fish market about 35 different wholesale dealers sell fish to the customers that visit the market from Monday to Friday. There are no posted prices and dealers can (and do) charge different prices to different consumers. In this exercise you will analyze data which were recovered from a single dealer on the Fulton fish market. The data run from December 2nd, 1991 through May 8th, 1992 and record daily transactions in whiting. Whiting is a cheap fish which is oily and distinctive tasting. Whiting vary relatively little in size and quality, and there is probably little scope for substitution with other types of fish. Use fulton.dta. The dataset contains the quantity of whiting sold in pounds (qty) and the average (quantity weighted) prices in dollars per pound (price), information about the day of the week (Monday-Friday) and the weather conditions (stormy, mixed)"
   ]
  },
  {
   "cell_type": "markdown",
   "id": "4993bf2c",
   "metadata": {},
   "source": [
    "1.Write a two-equation system in “supply and demand form”, that is, with the same\n",
    "variable (typically, quantity) appearing on the left-hand side:\n",
    "$$\n",
    "qty = \\alpha_1 price + \\beta_1 z_1 + u_1 \\tag{1}\n",
    "$$\n",
    "$$\n",
    "qty = \\alpha_2 price + \\beta_2 z_2 + u_2 \\tag{2}\n",
    "$$\n",
    "If $\\alpha_1 = 0$ or $\\alpha_2 = 0$, explain why a reduced form exists for $qty$. (Remember, a reduced form expresses $qty$ as a linear function of the exogenous variables and the structural errors.) If $\\alpha_1 \\ne0$ and $\\alpha_2 = 0$, find the reduced form for price."
   ]
  },
  {
   "cell_type": "markdown",
   "id": "1f9ec4c4",
   "metadata": {},
   "source": [
    "Without loss of generality, we can assume that $\\alpha_2=0$ and $\\alpha_1 \\ne 0$ and then the functions can be reduced to\n",
    "$$\n",
    "qty = \\beta_2 z_2 + u_2\n",
    "$$\n",
    "Which is a reduced form for $qty$.\n",
    "\n",
    "\n",
    "Then we can equate the two equations to have:\n",
    "$$\n",
    "\\alpha_1 price + \\beta_1 z_1 + u_1 = \\beta_2 z_2 + u_2 \n",
    "$$\n",
    "And thus \n",
    "$$\n",
    "price = \\frac{\\beta_2 z_2 + u_2-\\beta_1 z_1 - u_1}{\\alpha_1}\n",
    "$$"
   ]
  },
  {
   "cell_type": "markdown",
   "id": "6b908463",
   "metadata": {},
   "source": [
    "2.If $\\alpha_1 \\ne 0$, $\\alpha_2 \\ne 0$ and $\\alpha_1 \\ne \\alpha_2$, find the reduced for for $qty$. Does price have a reduced form in this case?"
   ]
  },
  {
   "cell_type": "markdown",
   "id": "fc156680",
   "metadata": {},
   "source": [
    "From equation (1), we can rewrite it as a function of $price$:\n",
    "$$\n",
    "price = \\frac{qty-\\beta_1 z_1 - u_1}{\\alpha_1} \\tag{3}\n",
    "$$\n",
    "Then plug it into equation (2):\n",
    "$$\n",
    "\\begin{align*}\n",
    "qty &= \\alpha_2 \\frac{qty-\\beta_1 z_1 - u_1}{\\alpha_1} + \\beta_2 z_2 +u_2 \\\\\n",
    "&= \\frac{\\alpha_2}{\\alpha_1}qty-\\alpha_2 \\frac{\\beta_1 z_1 + u_1}{\\alpha_1}+\\beta_2 z_2 +u_2\\\\\n",
    "&= \\frac{-\\alpha_2 \\frac{\\beta_1 z_1 + u_1}{\\alpha_1}+\\beta_2 z_2 +u_2}{1-\\frac{\\alpha_2}{\\alpha_1}} \\tag{4}\n",
    "\\end{align*}\n",
    "$$\n",
    "Which is the reduced form for $qty$."
   ]
  },
  {
   "cell_type": "markdown",
   "id": "60f4baf0",
   "metadata": {},
   "source": [
    "We then plug equation (2) into equation (3):\n",
    "$$\n",
    "\\begin{align*}\n",
    "price = \\frac{\\alpha_2 price + \\beta_2 z_2 + u_2-\\beta_1 z_1 - u_1}{\\alpha_1}\n",
    "\\end{align*}\n",
    "$$\n",
    "Isolate $price$ to have:\n",
    "$$\n",
    "\\begin{align*}\n",
    "price &= \\frac{\\frac{\\beta_2 z_2 + u_2-\\beta_1 z_1 - u_1}{\\alpha_1}}{1-\\frac{\\alpha_2}{\\alpha_1}}\\\\\n",
    "&= \\frac{\\beta_2 z_2 + u_2-\\beta_1 z_1 - u_1}{\\alpha_1-\\alpha_2} \\tag{5}\n",
    "\\end{align*}\n",
    "$$\n",
    "Which is the reduced form for $price$."
   ]
  },
  {
   "cell_type": "markdown",
   "id": "7e9e990f",
   "metadata": {},
   "source": [
    "3.Is the condition $\\alpha_1 \\ne \\alpha_2$ likely to be met in supply and demand examples? Explain."
   ]
  },
  {
   "cell_type": "markdown",
   "id": "fe537edc",
   "metadata": {},
   "source": [
    "Yes, in reality it is very likely that the two coefficients are not the same. The reason is that the coefficient for price on quantity represents the elasticity, and that for demand and supply comes from very different sources. In the case of fish, the demand elasticity can be determined by factors like the preference for fish and other substitutes like meat and the supply elasticity can be determined by the operation and technology of the fishing industry."
   ]
  },
  {
   "cell_type": "markdown",
   "id": "4f8d2614",
   "metadata": {},
   "source": [
    "4.The following simultaneous equations model imposes the equilibrium condition that supply equals demand:\n",
    "$$\n",
    "qty = \\alpha_1 price +\\beta_1 stormy + u_1 \\tag{6}\n",
    "$$\n",
    "$$\n",
    "qty = \\alpha_2 price +\\beta_2 friday + u_2 \\tag{7}\n",
    "$$\n",
    "Which would you argue is the supply equation and which is the demand equation?\n",
    "Explain. In what follows suppose $\\beta_2 = 0$."
   ]
  },
  {
   "cell_type": "markdown",
   "id": "8c120822",
   "metadata": {},
   "source": [
    "Equation (6) should be the supply equation because when weather is stormy, it should be become hard to catch fish, reducing the supply. Equation (7) is the demand function because people might want more fish on Friday for some reason. \n",
    "\n",
    "$\\beta_2 = 0$ means that people's consumption of fish is the same on Friday compared to other days in a week."
   ]
  },
  {
   "cell_type": "markdown",
   "id": "1578f4db",
   "metadata": {},
   "source": [
    "5.Do the supply and demand equations satisfy the order condition for identification?"
   ]
  },
  {
   "cell_type": "markdown",
   "id": "af7213ab",
   "metadata": {},
   "source": [
    "Since we have two exogenous variables: stormy and friday, and also two endogenous variables, so $H=K$ which satisifies the condition for exact identification."
   ]
  },
  {
   "cell_type": "markdown",
   "id": "96e1bb58",
   "metadata": {},
   "source": [
    "6.Estimate reduced form equations for qty and price. Comment on the reduced form\n",
    "coefficients on stormy"
   ]
  },
  {
   "cell_type": "markdown",
   "id": "0bfe0ee5",
   "metadata": {},
   "source": [
    "Replace $z_1$ and $z_2$ with $stormy$ and $friday$ from the reduced form equations (4) and (5) and isolate the exogenous variables on the right hand sides to have:\n",
    "$$\n",
    "qty = -\\frac{\\alpha_2 \\beta_1}{\\alpha_1 - \\alpha_2}stormy +\\frac{\\alpha_1 \\beta_2}{\\alpha_1 - \\alpha_2}friday + u_{qty} \\tag{8}\n",
    "$$\n",
    "$$\n",
    "price = \\frac{\\beta_2}{\\alpha_1-\\alpha_2}friday - \\frac{\\beta_1}{\\alpha_1 - \\alpha_2}stormy + u_{price} \\tag{9}\n",
    "$$"
   ]
  },
  {
   "cell_type": "code",
   "execution_count": null,
   "id": "e88816d4",
   "metadata": {},
   "outputs": [
    {
     "data": {
      "text/plain": [
       "StatsModels.TableRegressionModel{LinearModel{GLM.LmResp{Vector{Float64}}, GLM.DensePredChol{Float64, LinearAlgebra.CholeskyPivoted{Float64, Matrix{Float64}, Vector{Int64}}}}, Matrix{Float64}}\n",
       "\n",
       "qty ~ 1 + stormy + friday\n",
       "\n",
       "Coefficients:\n",
       "──────────────────────────────────────────────────────────────────────────\n",
       "                 Coef.  Std. Error      t  Pr(>|t|)  Lower 95%   Upper 95%\n",
       "──────────────────────────────────────────────────────────────────────────\n",
       "(Intercept)   8.58036    0.0892642  96.12    <1e-99   8.40342    8.7573\n",
       "stormy       -0.356755   0.151787   -2.35    0.0206  -0.657622  -0.0558871\n",
       "friday        0.221614   0.169636    1.31    0.1942  -0.114633   0.557861\n",
       "──────────────────────────────────────────────────────────────────────────"
      ]
     },
     "metadata": {},
     "output_type": "display_data"
    }
   ],
   "source": [
    "# Modify the data\n",
    "df.stormy = Float64.(df.stormy)\n",
    "df.friday = Float64.(df.friday)\n",
    "df.qty = Float64.(df.qty)\n",
    "\n",
    "# Estimate the supply function\n",
    "model_qty = lm(@formula(qty ~ stormy + friday),df)"
   ]
  },
  {
   "cell_type": "markdown",
   "id": "360d4ab2",
   "metadata": {},
   "source": [
    "For the stormy dummy variable, the coefficient is negative which matches the idea that during a stormy day the fish supply is decreased and it is also statistically significant at 5% level.\n",
    "\n",
    "For the friday dummy variable, the coefficient is positive which means more fish are supplied on Friday for some reason but it is not statistically significant so we cannot reject the null hypothesis that fish supply on Friday is not different from other days."
   ]
  },
  {
   "cell_type": "code",
   "execution_count": null,
   "id": "0d0c160f",
   "metadata": {},
   "outputs": [
    {
     "data": {
      "text/plain": [
       "StatsModels.TableRegressionModel{LinearModel{GLM.LmResp{Vector{Float64}}, GLM.DensePredChol{Float64, LinearAlgebra.CholeskyPivoted{Float64, Matrix{Float64}, Vector{Int64}}}}, Matrix{Float64}}\n",
       "\n",
       "price ~ 1 + stormy + friday\n",
       "\n",
       "Coefficients:\n",
       "──────────────────────────────────────────────────────────────────────────\n",
       "                  Coef.  Std. Error      t  Pr(>|t|)  Lower 95%  Upper 95%\n",
       "──────────────────────────────────────────────────────────────────────────\n",
       "(Intercept)  -0.296184    0.0435453  -6.80    <1e-09  -0.382499  -0.20987\n",
       "stormy        0.336015    0.0740453   4.54    <1e-04   0.189245   0.482786\n",
       "friday        0.0271893   0.0827525   0.33    0.7431  -0.13684    0.191219\n",
       "──────────────────────────────────────────────────────────────────────────"
      ]
     },
     "metadata": {},
     "output_type": "display_data"
    }
   ],
   "source": [
    "# Modify the data\n",
    "df.price = Float64.(df.price)\n",
    "# Estimate the demand function\n",
    "model_price = lm(@formula(price ~ stormy + friday),df)"
   ]
  },
  {
   "cell_type": "markdown",
   "id": "be61dd5a",
   "metadata": {},
   "source": [
    "For the stormy dummy variable, the coefficient in positive and statistically significant, meaning that the price goes up on stormy day, which match the fact that the suply on stormy day will decrease.\n",
    "And the Friday dummy variable is positive but not statistically significant, meaning we cannot reject the null hypothesis that price on friday is different from the others."
   ]
  },
  {
   "cell_type": "markdown",
   "id": "5bafe75d",
   "metadata": {},
   "source": [
    "7.Divide the reduced form coefficient on stormy in the reduced form quantity equation\n",
    "by the reduced form coefficient on stormy in the reduced form price equation. What\n",
    "parameter are you estimating now? Interpret on the sign and size of this estimate."
   ]
  },
  {
   "cell_type": "markdown",
   "id": "50b894b6",
   "metadata": {},
   "source": [
    "From equation (8) and (9) we have:\n",
    "$$\n",
    "\\frac{-\\frac{\\alpha_2 \\beta_1}{\\alpha_1 - \\alpha_2}}{- \\frac{\\beta_1}{\\alpha_1 - \\alpha_2}}=\\alpha_2\n",
    "$$\n",
    "which is exactly the coefficient on price in the demand curve. The reason behind is that stormy shift the supply curve which help us identify the demand curve.\n",
    "\n",
    "\n",
    "Numerically: $-0.356755/0.336015=-1.0617$\n",
    "\n",
    "The sign is negative, meaning that when price increases, quantity demand decreases, matching the normal demand curve. And $1$ dollar per pound increase in price decreases the quantity demand by $-1.0617$ pounds."
   ]
  },
  {
   "cell_type": "markdown",
   "id": "a3cb63bc",
   "metadata": {},
   "source": [
    "8.Estimate the same parameter in (7) using 2SLS (-ivreg- in Stata)"
   ]
  },
  {
   "cell_type": "code",
   "execution_count": null,
   "id": "5b559e6e",
   "metadata": {},
   "outputs": [
    {
     "data": {
      "text/plain": [
       "                             FixedEffectModel                             \n",
       "===========================================================================\n",
       "Number of obs:                   111   Converged:                      true\n",
       "dof (model):                       1   dof (residuals):                 108\n",
       "R²:                           -0.000   R² adjusted:                  -0.009\n",
       "F-statistic:                 5.40174   P-value:                       0.022\n",
       "F-statistic (first stage):   21.0696   P-value (first stage):         0.000\n",
       "===========================================================================\n",
       "             Estimate  Std. Error    t-stat  Pr(>|t|)  Lower 95%  Upper 95%\n",
       "───────────────────────────────────────────────────────────────────────────\n",
       "price        -1.08241    0.46572   -2.32416    0.0220   -2.00555  -0.159272\n",
       "(Intercept)   8.31379    0.114622  72.5319     <1e-92    8.08659   8.54099\n",
       "===========================================================================\n"
      ]
     },
     "metadata": {},
     "output_type": "display_data"
    }
   ],
   "source": [
    "# So we essentially treat stormy as a instrument for price.\n",
    "# Estimate the 2SLS model\n",
    "demand_2sls= reg(df, @formula(qty ~ (price ~ stormy)))"
   ]
  },
  {
   "cell_type": "markdown",
   "id": "0b8fa638",
   "metadata": {},
   "source": [
    "9.Can you find an explanation why we assumed that β2 = 0 (Hint: include it in the\n",
    "reduced form estimations)"
   ]
  },
  {
   "cell_type": "markdown",
   "id": "7be38ead",
   "metadata": {},
   "source": [
    "In the reduced form estimation we have the coefficients on Friday are given by:\n",
    "$$\n",
    "\\frac{\\alpha_1 \\beta_2}{\\alpha_1 - \\alpha_2}\\\\\n",
    "\\frac{\\beta_2}{\\alpha_1 - \\alpha_2}\n",
    "$$\n",
    "Since in the reduced form estimation we found that both coefficients are not significant, so it is safe to assume them to be $0$. To achieve this, we can assume $\\beta_2 = 0$."
   ]
  },
  {
   "cell_type": "markdown",
   "id": "ae42c81b",
   "metadata": {},
   "source": [
    "## Problem2\n",
    "For each of the following simple regression models, find reasons why the residual may not be\n",
    "orthogonal to the explicative variables, and determine the direction of the bias of the OLS\n",
    "estimator of $\\beta_1$:\n",
    "\n",
    "\n",
    "1.$score = \\beta_0 + \\beta_1 classsize + e$\n",
    "\n",
    "Because class size may correlate with other factors that can affect score, including parents' education level and income. Factors like income are negatively correlated with class size, thus the bias of OLS estimator is downward.\n",
    "\n"
   ]
  },
  {
   "cell_type": "markdown",
   "id": "c1a09f64",
   "metadata": {},
   "source": [
    "2.$exam = \\beta_0 + \\beta_1 attendance + e$\n",
    "\n",
    "Attendance rate may correlate with the health condition of the students, which also affects their exam performance. As attendance rate is positively correlated with health and also the exam performance, the bias of OLS estimator is upward.\n"
   ]
  },
  {
   "cell_type": "markdown",
   "id": "47e83669",
   "metadata": {},
   "source": [
    "3.$crime = \\beta_0 + \\beta_1 education + e$\n",
    "\n",
    "Education can be correlated with parents' income which also affects the probability of comitting crimes. With positive correlation between parents' income and education it is expected that the bias of OLS estimator is upward."
   ]
  },
  {
   "cell_type": "markdown",
   "id": "1ae5033e",
   "metadata": {},
   "source": [
    "## Problem 3\n",
    "Consider the following wage equation :\n",
    "$$\n",
    "y_i = a + bx_i + u_i\n",
    "$$\n",
    "where $x_i$ represent the level of education of individual $i$, and $y_i$ the logarithm of its labor\n",
    "income. We are concerned by the potential endogeneity problems which may arise from this\n",
    "formulation."
   ]
  },
  {
   "cell_type": "markdown",
   "id": "8a0e5cba",
   "metadata": {},
   "source": [
    "1.In order to highlight these problems, we assume in this question that there exist unob-\n",
    "served characteristics $z_i$, called “ability”, which has an impact on both $u_i$ et $x_i$. That\n",
    "is,\n",
    "\n",
    "$$\n",
    "\\left\\{\n",
    "\\begin{align*}\n",
    "u_i = bz_i + \\eta_i,\\\\\n",
    "\n",
    "\n",
    "x_i = \\alpha + \\beta z_i + e_i.\n",
    "\\end{align*}\n",
    "    \\right.\n",
    "    $$\n"
   ]
  },
  {
   "cell_type": "markdown",
   "id": "36e4ba1b",
   "metadata": {},
   "source": [
    "(a)Interpret this structural model.\n",
    "\n",
    "This structural model accounts for the endogenity of $x_i$ which is correlated with $u_i$ through the equation using $z_i$, the unobservable ability. This ability affects both the education level and income."
   ]
  },
  {
   "cell_type": "markdown",
   "id": "b9cf9b6a",
   "metadata": {},
   "source": [
    "(b)Assume that $\\eta_i$ and $e_i$ are not correlated and have zero mean, determine the asymptotic bias of the OLS estimator $\\hat{\\beta}_{OLS}$ . Show that it is likely to be positive.\n",
    "\n",
    "We have \n",
    "$$\n",
    "plim(\\beta)=b_0+\\frac{Cov(x_i,u_i)}{Var(x_i)}\n",
    "$$ \n",
    "so the bias is just \n",
    "$$\n",
    "\\frac{Cov(x_i,u_i)}{Var(x_i)}\n",
    "$$\n",
    "Then we plug in the formula for $u_i$ and $x_i$,\n",
    "$$\n",
    "bias=\\frac{Cov(bz_i+\\eta_i,\\alpha+\\beta z_i+e_i)}{Var(x_i)}\n",
    "$$\n",
    "Since $\\eta_i$ and $e_i$ is not correlated and so does $e_i$ and $z_i$, we can simplify the bias formula into:\n",
    "$$\n",
    "bias=\\frac{b \\beta Var(z_i)}{Var(x_i)}\n",
    "$$\n",
    "Since $Var \\geq 0$ by definition, $b>0$ because education has positive effects on income, and $\\beta > 0$ because the unobservable ability also positively affects education, the bias is positive."
   ]
  },
  {
   "cell_type": "markdown",
   "id": "b486f3c3",
   "metadata": {},
   "source": [
    "(c)We are interested in computing empirically the bias of $\\hat{\\beta}$. Which method could we use ?\n",
    "\n",
    "We can use 2SLS. First we need to find an instrumental variable that is correlated with education but not the error terms (in other words not correlated with income). Then we estimate the $\\hat{\\beta}_{2SLS}$ and also $\\hat{\\beta}_{OLS}$. Their difference is the bias."
   ]
  },
  {
   "cell_type": "markdown",
   "id": "33973e6f",
   "metadata": {},
   "source": [
    "2.We find a significant negative bias at the end. We interpret the previous paradox by assuming that there are measurement errors. The true model can be written :\n",
    "$$\n",
    "y_i^* = a +b x_i^* + u_i,\n",
    "$$\n",
    "where $y_i^*$ is the labor income measured by $y_i$ with error:\n",
    "$$\n",
    "y_i=y_i^*+\\nu_i\n",
    "$$\n",
    "and $x^∗_i$ is the true level of education measure with error by $x_i$:\n",
    "$$\n",
    "x_i = x^*_i + \\epsilon_i\n",
    "$$\n",
    "We assume that the (measurement) errors $\\epsilon_i$ and $\\nu_i$ are not correlated, iid and not correlated with $x^∗_i$."
   ]
  },
  {
   "cell_type": "markdown",
   "id": "f2bc52c1",
   "metadata": {},
   "source": [
    "(a)Let $\\hat{\\beta}$ be the OLS estimator of the coefficient associated to $x_i$ in the regression of $y_i$ on $x_i$ with a constant term. Express the asymptotic bias over $b$ and show that the measurement error biases the estimator downward (toward 0).\n",
    "\n",
    "By substituting the measurement error equations into the true model, we have:\n",
    "$$\n",
    "\\begin{align*}\n",
    "y &= a + b (x_i - \\epsilon_i)+\\nu_i\\\\\n",
    "&= a +b x_i + \\nu_i-b \\epsilon_i\n",
    "\\end{align*}\n",
    "$$\n",
    "Then we use the general formula for bias\n",
    "$$\n",
    "\\begin{align*}\n",
    "bias &= \\frac{Cov(x_i, \\nu_i-b \\epsilon_i)}{Var(x_i)}\\\\\n",
    "&= \\frac{Cov(x_i^*+\\epsilon_i,\\nu_i-b \\epsilon_i)}{Var(x_i)}\n",
    "\\end{align*}\n",
    "$$\n",
    "Since $x_i^*$ is not correlated with $\\nu_i$ and $\\epsilon_i$ and the two measurement errors are not correlated with each other,\n",
    "$$\n",
    "bias=\\frac{-b Var(\\epsilon_i)}{Var(x_i)}\n",
    "$$\n",
    "Since $Var >0$ by definition, and $b>0$ for positive correlation between education and income, this measurement error causes downward bias."
   ]
  },
  {
   "cell_type": "markdown",
   "id": "0eaa045d",
   "metadata": {},
   "source": [
    "(b)Let $\\hat{c}$ be the OLS estimator of the coefficient associated to $y_i$ in the regression of $x_i$ on $y_i$ with a constant term. Express the asymptotic bias of $1/\\hat{c}$ over $b$. Show that the bias is positive.\n",
    "\n",
    "The OLS estimator is:\n",
    "\n",
    "$$\n",
    "\\hat{c} = \\frac{\\text{Cov}(y_i, x_i)}{\\text{Var}(y_i)}\n",
    "$$\n",
    "\n",
    "Use:\n",
    "\n",
    "- $ y_i = y^*_i + \\nu_i = a + b x^*_i + u_i + \\nu_i $\n",
    "- $ x_i = x^*_i + \\varepsilon_i $\n",
    "\n",
    "Because the measurement erros does not correlated with the other variable\n",
    "\n",
    "$$\n",
    "\\text{Cov}(y_i, x_i) = \\text{Cov}(y^*_i + \\nu_i,\\; x^*_i + \\varepsilon_i)\n",
    "= \\text{Cov}(y^*_i, x^*_i)\n",
    "$$\n",
    "\n",
    "Since $ y^*_i = a + b x^*_i + u_i $, we get:\n",
    "$$\n",
    "\\text{Cov}(y^*_i, x^*_i) = b \\text{Var}(x^*_i)\n",
    "$$\n",
    "$$\n",
    "\\text{Var}(y_i) = \\text{Var}(y^*_i + \\nu_i) = \\text{Var}(y^*_i) + \\text{Var}(\\nu_i)\n",
    "$$\n",
    "And:\n",
    "$$\n",
    "\\text{Var}(y^*_i) = b^2 \\text{Var}(x^*_i) + \\text{Var}(u_i)\n",
    "$$\n",
    "\n",
    "Thus:\n",
    "$$\n",
    "\\text{Var}(y_i) = b^2 \\text{Var}(x^*_i) + \\text{Var}(u_i) + \\text{Var}(\\nu_i)\n",
    "$$\n",
    "\n",
    "So asympotically, \n",
    "$$\n",
    "\\hat{c} \\xrightarrow{p} \\frac{b \\text{Var}(x^*_i)}{b^2 \\text{Var}(x^*_i) + \\text{Var}(u_i) + \\text{Var}(\\nu_i)}\n",
    "$$\n",
    "\n",
    "Now take the reciprocal:\n",
    "$$\n",
    "\\frac{1}{\\hat{c}} \\xrightarrow{p}\n",
    "\\frac{b^2 \\text{Var}(x^*_i) + \\text{Var}(u_i) + \\text{Var}(\\nu_i)}{b \\text{Var}(x^*_i)}\n",
    "= b + \\frac{\\text{Var}(u_i) + \\text{Var}(\\nu_i)}{b \\text{Var}(x^*_i)}\n",
    "$$\n",
    "\n",
    "As $b>0$ for positive correlation between education and $Var \\geq 0$ by definition, the bias part is positive."
   ]
  },
  {
   "cell_type": "markdown",
   "id": "38324a92",
   "metadata": {},
   "source": [
    "## Problem 4\n",
    "A simple model to determine the effectiveness of nicotine patch usage on reducing lung\n",
    "cancers among smokers is:\n",
    "$$\n",
    "cancerrate = \\beta_0 +\\beta_1 patchuse + \\beta_2 percmale + \\beta_3 avgine + \\beta_4 city +u\n",
    "$$\n",
    "where *cancerrate* is the percent of smokers who have contracted lung cancer, *patchuse* is\n",
    "the percentage of individuals who claim to regularly use nicotine patches, *avginc* is average\n",
    "income, and *city* is a dummy variable indicating whether the individual lives in a city. The\n",
    "model is at the state level."
   ]
  },
  {
   "cell_type": "markdown",
   "id": "f37c2725",
   "metadata": {},
   "source": [
    "1.Interpreting the preceding equation in a causal, ceteris paribus way, what should be\n",
    "the sign of $\\beta_1$? Explain the mechanism.\n",
    "\n",
    "We are predicting the probability of getting lung cancer among somkers by using factors including the use of nicotine patches, average income, gender and living area. \n",
    "\n",
    "It is expected that the sign $\\beta_1$ is negative because the use of nicotine patches can help smokers to reduce the frequency of smoking, thus decreasing the risk of getting lung cancer."
   ]
  },
  {
   "cell_type": "markdown",
   "id": "2376122a",
   "metadata": {},
   "source": [
    "2.Why would you suspect $patchuse$ to be correlated with the error term $u$?\n",
    "\n",
    "Because there is problem with reverse causality that people with higher risk of getting lung cancer will use more nicotine patch to reduce the risk, thus making the use of nicotine patch correlates with the error term. Also there may be the issue of omitted variable, for example the mental strength to continue use nicotine patch, which is also correlated with the risk of getting cancer."
   ]
  },
  {
   "cell_type": "markdown",
   "id": "623f6769",
   "metadata": {},
   "source": [
    "3.Assume that patch usage increases with the rate of lung cancer, so that $\\gamma_1 > 0$ in the\n",
    "equation\n",
    "$$\n",
    "patchuse = \\gamma_0 + \\gamma_1 cancerrate + \\gamma_2 otherfactors +v.\n",
    "$$\n",
    "4.What is the likely bias in estimating $\\beta_1$ by OLS?\n",
    "\n",
    "Since the patch usage is positively correlated with the rate of lung cancer and thus the error term, the bias upward. As a result, we may overestimate $\\beta_1$, that is the reality the patch usage should less positive effects of rate of lung cancer.\n"
   ]
  },
  {
   "cell_type": "markdown",
   "id": "4e83753e",
   "metadata": {},
   "source": [
    "5.What sort of variable would you look for in order to instrument $patchuse$?\n",
    "\n",
    "So a good instrument should be correlated with the independent varaibles $patchuse$ but not the error term or $cancerrate$. One potential instrument can be the distance between population center and clinics that offer nicotine patches because it is correlated with the useage of the patch but not necessarily with the cancer rate itself."
   ]
  },
  {
   "cell_type": "markdown",
   "id": "deb32b02",
   "metadata": {},
   "source": [
    "6.Let $patchdis$ be a binary variable equal to unity if the state has a program to distribute\n",
    "nicotine patch. Explain how this can be used to estimate $\\beta_1$ (and the other $\\beta_s$) by IV.\n",
    "What do we have to assume about $patchdis$ in the above 2 equations?\n",
    "\n",
    "First we estimate the equation\n",
    "$$\n",
    "patchuse = \\alpha_0 + \\alpha_1 patchdis +e\n",
    "$$\n",
    "and it is expected that $\\alpha_1$ is positive and statistically significant to satisfy the first condition for good instrument.\n",
    "and get the predicted $\\hat{patchuse}$ and run the second stage regression:\n",
    "$$\n",
    "cancerrate = \\beta_0 +\\beta_1 \\hat{patchuse} + \\beta_2 percmale + \\beta_3 avgine + \\beta_4 city +u\n",
    "$$\n",
    "We need to assume that $patchdis$ is not correlated with the cancer rate otherwise it does not satisfy the exogeneity assumption.\n",
    "\n",
    "When estimating the second stage equation, we will get a better estimation of other $\\beta_s$."
   ]
  }
 ],
 "metadata": {
  "kernelspec": {
   "display_name": "Python 3",
   "language": "python",
   "name": "python3"
  },
  "language_info": {
   "file_extension": ".jl",
   "mimetype": "application/julia",
   "name": "python",
   "version": "3.13.2"
  }
 },
 "nbformat": 4,
 "nbformat_minor": 5
}
