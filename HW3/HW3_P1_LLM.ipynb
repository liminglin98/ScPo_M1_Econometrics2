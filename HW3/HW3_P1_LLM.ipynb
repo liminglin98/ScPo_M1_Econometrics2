{
 "cells": [
  {
   "cell_type": "code",
   "execution_count": 1,
   "metadata": {},
   "outputs": [
    {
     "name": "stdout",
     "output_type": "stream",
     "text": [
      "\n",
      "  ___  ____  ____  ____  ____ ®\n",
      " /__    /   ____/   /   ____/      StataNow 18.5\n",
      "___/   /   /___/   /   /___/       MP—Parallel Edition\n",
      "\n",
      " Statistics and Data Science       Copyright 1985-2023 StataCorp LLC\n",
      "                                   StataCorp\n",
      "                                   4905 Lakeway Drive\n",
      "                                   College Station, Texas 77845 USA\n",
      "                                   800-782-8272        https://www.stata.com\n",
      "                                   979-696-4600        service@stata.com\n",
      "\n",
      "Stata license: Unlimited-user 2-core network, expiring  8 Jun 2025\n",
      "Serial number: 501809316934\n",
      "  Licensed to: Liming Lin\n",
      "               Sciences Po\n",
      "\n",
      "Notes:\n",
      "      1. Unicode is supported; see help unicode_advice.\n",
      "      2. More than 2 billion observations are allowed; see help obs_advice.\n",
      "      3. Maximum number of variables is set to 5,000 but can be increased;\n",
      "          see help set_maxvar.\n"
     ]
    }
   ],
   "source": [
    "import os\n",
    "os.chdir(\"C:/Program Files/Stata18/utilities\")\n",
    "from pystata import config\n",
    "config.init(\"mp\")"
   ]
  },
  {
   "cell_type": "markdown",
   "metadata": {},
   "source": [
    "Q1 Load STATA dataset ee2002ext.dta."
   ]
  },
  {
   "cell_type": "code",
   "execution_count": 2,
   "metadata": {},
   "outputs": [
    {
     "name": "stdout",
     "output_type": "stream",
     "text": [
      "\n",
      ". cd \"D:\\My Drive\\Sciences Po\\Spring 2025\\Econometrics\\HW\\3\"\n",
      "D:\\My Drive\\Sciences Po\\Spring 2025\\Econometrics\\HW\\3\n",
      "\n",
      ". use ee2002ext.dta, clear\n",
      "\n",
      ". \n"
     ]
    }
   ],
   "source": [
    "%%stata\n",
    "cd \"D:\\My Drive\\Sciences Po\\Spring 2025\\Econometrics\\HW\\3\"\n",
    "use ee2002ext.dta, clear"
   ]
  },
  {
   "cell_type": "markdown",
   "metadata": {},
   "source": [
    "Q2 Create variable log(salfr) and trim the sample below the 0.5th percentile and above the 99.5th one.\n",
    "Remove observations corresponding to individuals still in school (ddipl1=7)."
   ]
  },
  {
   "cell_type": "code",
   "execution_count": 3,
   "metadata": {},
   "outputs": [
    {
     "name": "stdout",
     "output_type": "stream",
     "text": [
      "\n",
      ". gen lw =log(salfr+1)\n",
      "(89,004 missing values generated)\n",
      "\n",
      ". _pctile lw, p(.5 99.5)\n",
      "\n",
      ". return list \n",
      "\n",
      "scalars:\n",
      "                 r(r1) =  .6931471824645996\n",
      "                 r(r2) =  10.59665966033936\n",
      "\n",
      ". global p0050 = r(r1)\n",
      "\n",
      ". global p9950 = r(r2)\n",
      "\n",
      ". drop if lw < $p0050 | lw > $p9950 \n",
      "(89,445 observations deleted)\n",
      "\n",
      ". drop if ddipl1 == 7\n",
      "(1,696 observations deleted)\n",
      "\n",
      ". \n"
     ]
    }
   ],
   "source": [
    "%%stata\n",
    "gen lw =log(salfr+1)\n",
    "_pctile lw, p(.5 99.5)\n",
    "return list \n",
    "global p0050 = r(r1)\n",
    "global p9950 = r(r2)\n",
    "drop if lw < $p0050 | lw > $p9950 \n",
    "drop if ddipl1 == 7"
   ]
  },
  {
   "cell_type": "markdown",
   "metadata": {},
   "source": [
    "Q3 Generate age squared (age is agd)."
   ]
  },
  {
   "cell_type": "code",
   "execution_count": 4,
   "metadata": {},
   "outputs": [],
   "source": [
    "%%stata\n",
    "gen agd2 = agd^2"
   ]
  },
  {
   "cell_type": "markdown",
   "metadata": {},
   "source": [
    "Q4 Regress log(salfr) on gender (variable s), age, age squared and ddipl1."
   ]
  },
  {
   "cell_type": "code",
   "execution_count": 5,
   "metadata": {},
   "outputs": [
    {
     "name": "stdout",
     "output_type": "stream",
     "text": [
      "\n",
      ". gen male=1 if s==1\n",
      "(25,184 missing values generated)\n",
      "\n",
      ". replace male=0 if s==2\n",
      "(25,184 real changes made)\n",
      "\n",
      ". tabulate ddipl1, generate(ddipl1_dum)\n",
      "\n",
      "     ddipl1 |      Freq.     Percent        Cum.\n",
      "------------+-----------------------------------\n",
      "          1 |     11,650       22.05       22.05\n",
      "          2 |      3,904        7.39       29.44\n",
      "          3 |     16,066       30.41       59.85\n",
      "          4 |      7,895       14.94       74.79\n",
      "          5 |      7,177       13.58       88.37\n",
      "          6 |      6,143       11.63      100.00\n",
      "------------+-----------------------------------\n",
      "      Total |     52,835      100.00\n",
      "\n",
      ". reg lw male agd agd2 ddipl1_dum*\n",
      "note: ddipl1_dum6 omitted because of collinearity.\n",
      "\n",
      "      Source |       SS           df       MS      Number of obs   =    52,835\n",
      "-------------+----------------------------------   F(8, 52826)     =   2045.66\n",
      "       Model |  5339.99388         8  667.499234   Prob > F        =    0.0000\n",
      "    Residual |  17237.1499    52,826  .326300493   R-squared       =    0.2365\n",
      "-------------+----------------------------------   Adj R-squared   =    0.2364\n",
      "       Total |  22577.1437    52,834   .42732225   Root MSE        =    .57123\n",
      "\n",
      "------------------------------------------------------------------------------\n",
      "          lw | Coefficient  Std. err.      t    P>|t|     [95% conf. interval]\n",
      "-------------+----------------------------------------------------------------\n",
      "        male |   .3676793    .005023    73.20   0.000     .3578342    .3775245\n",
      "         agd |   .0572084   .0017825    32.09   0.000     .0537147     .060702\n",
      "        agd2 |  -.0005573    .000022   -25.34   0.000    -.0006004   -.0005142\n",
      " ddipl1_dum1 |  -.8199959   .0090884   -90.22   0.000    -.8378092   -.8021827\n",
      " ddipl1_dum2 |  -.5609542   .0117026   -47.93   0.000    -.5838915   -.5380169\n",
      " ddipl1_dum3 |  -.5903601   .0085906   -68.72   0.000    -.6071977   -.5735225\n",
      " ddipl1_dum4 |  -.4207733   .0097435   -43.18   0.000    -.4398708   -.4016759\n",
      " ddipl1_dum5 |  -.2172493   .0099475   -21.84   0.000    -.2367465    -.197752\n",
      " ddipl1_dum6 |          0  (omitted)\n",
      "       _cons |   7.918035   .0353517   223.98   0.000     7.848746    7.987325\n",
      "------------------------------------------------------------------------------\n",
      "\n",
      ". \n"
     ]
    }
   ],
   "source": [
    "%%stata\n",
    "gen male=1 if s==1\n",
    "replace male=0 if s==2\n",
    "tabulate ddipl1, generate(ddipl1_dum)\n",
    "reg lw male agd agd2 ddipl1_dum*"
   ]
  },
  {
   "cell_type": "markdown",
   "metadata": {},
   "source": [
    "Q5 Interpret the regression output."
   ]
  },
  {
   "cell_type": "markdown",
   "metadata": {},
   "source": [
    "male: Holding other variables constant, male's salary is approximately 36.77% higher than female.\n",
    "\n",
    "agd & agd2: Holding other variables constant, one year increase in age increases the wage by (5.72-0.056*agd)%.\n",
    "\n",
    "ddipl1_dum1: Holding other variables constant, Aucun diplôme ou CEP's salary is 82.00% less than Diplôme supérieur.\n",
    "\n",
    "ddipl1_dum2: Holding other variables constant, BEPC seul's salary is 56.09% less than Diplôme supérieur.\n",
    "\n",
    "ddipl1_dum3: Holding other variables constant, CAP, BEP ou autre diplôme de ce niveau's salary is 59.03 % less than Diplôme supérieur.\n",
    "\n",
    "ddipl1_dum4: Holding other variables constant, Baccalauréat ou brevet professionnel ou autre diplôme de ce niveau's salary is 42.08% less than Diplôme supérieur.\n",
    "\n",
    "ddipl1_dum5: Holding other variables constant, Baccalauréat + 2 ans's salary is 21.72% less than Diplôme supérieur.\n",
    "\n",
    "_cons: Holding other variables constant, the average log of wage of female with Diplôme supérieur is 7.92.\n"
   ]
  },
  {
   "cell_type": "markdown",
   "metadata": {},
   "source": [
    "Q6 Create global variables N, K + 1 and SSR. (Use command “ereturn”)"
   ]
  },
  {
   "cell_type": "code",
   "execution_count": 6,
   "metadata": {},
   "outputs": [
    {
     "name": "stdout",
     "output_type": "stream",
     "text": [
      "\n",
      ". ereturn list\n",
      "\n",
      "scalars:\n",
      "                  e(N) =  52835\n",
      "              e(sum_w) =  52835\n",
      "               e(df_m) =  8\n",
      "               e(df_r) =  52826\n",
      "                  e(F) =  2045.65806153759\n",
      "                 e(r2) =  .2365221189753191\n",
      "               e(rmse) =  .5712271818146846\n",
      "                e(mss) =  5339.993875905373\n",
      "                e(rss) =  17237.14985610473\n",
      "               e(r2_a) =  .2364064974433424\n",
      "                 e(ll) =  -45379.1928455106\n",
      "               e(ll_0) =  -52508.51329657075\n",
      "               e(rank) =  9\n",
      "\n",
      "macros:\n",
      "            e(cmdline) : \"regress lw male agd agd2 ddipl1_dum*\"\n",
      "              e(title) : \"Linear regression\"\n",
      "          e(marginsok) : \"XB default\"\n",
      "                e(vce) : \"ols\"\n",
      "             e(depvar) : \"lw\"\n",
      "                e(cmd) : \"regress\"\n",
      "         e(properties) : \"b V\"\n",
      "            e(predict) : \"regres_p\"\n",
      "              e(model) : \"ols\"\n",
      "          e(estat_cmd) : \"regress_estat\"\n",
      "\n",
      "matrices:\n",
      "                  e(b) :  1 x 10\n",
      "                  e(V) :  10 x 10\n",
      "               e(beta) :  1 x 9\n",
      "\n",
      "functions:\n",
      "             e(sample)   \n",
      "\n",
      ". global N        = e(N)\n",
      "\n",
      ". global K_plus_1 = e(df_m)+1\n",
      "\n",
      ". global SSR      = e(rss)\n",
      "\n",
      ". \n"
     ]
    }
   ],
   "source": [
    "%%stata\n",
    "ereturn list\n",
    "global N        = e(N)\n",
    "global K_plus_1 = e(df_m)+1\n",
    "global SSR      = e(rss)"
   ]
  },
  {
   "cell_type": "markdown",
   "metadata": {},
   "source": [
    "Q7 Use command “test” to test the null that there is no effect of education."
   ]
  },
  {
   "cell_type": "code",
   "execution_count": 7,
   "metadata": {},
   "outputs": [
    {
     "name": "stdout",
     "output_type": "stream",
     "text": [
      "\n",
      " ( 1)  ddipl1_dum1 = 0\n",
      " ( 2)  ddipl1_dum2 = 0\n",
      " ( 3)  ddipl1_dum3 = 0\n",
      " ( 4)  ddipl1_dum4 = 0\n",
      " ( 5)  ddipl1_dum5 = 0\n",
      "\n",
      "       F(  5, 52826) = 2062.89\n",
      "            Prob > F =    0.0000\n"
     ]
    }
   ],
   "source": [
    "%%stata\n",
    "testparm ddipl1_dum*"
   ]
  },
  {
   "cell_type": "markdown",
   "metadata": {},
   "source": [
    "Since the p-value is less than 0.05, we can reject the null hypothesis that education level has no effects on log of wage."
   ]
  },
  {
   "cell_type": "markdown",
   "metadata": {},
   "source": [
    "Q8 Test H0: the effects of (ddipl1==2) and (ddipl1==3) are equal. What do you conclude ?"
   ]
  },
  {
   "cell_type": "code",
   "execution_count": 8,
   "metadata": {},
   "outputs": [
    {
     "name": "stdout",
     "output_type": "stream",
     "text": [
      "\n",
      " ( 1)  ddipl1_dum2 - ddipl1_dum3 = 0\n",
      "\n",
      "       F(  1, 52826) =    8.28\n",
      "            Prob > F =    0.0040\n"
     ]
    }
   ],
   "source": [
    "%%stata\n",
    "test ddipl1_dum2 = ddipl1_dum3"
   ]
  },
  {
   "cell_type": "markdown",
   "metadata": {},
   "source": [
    "Since the p-value is less than 0.05, we can reject the null hypothesis that BEPC seul and CAP, BEP ou autre diplôme de ce niveau have the same effects on log of wage."
   ]
  },
  {
   "cell_type": "markdown",
   "metadata": {},
   "source": [
    "Q9 Estimate the model under the null that the effects of (ddipl1==2) and (ddipl1==3) are equal."
   ]
  },
  {
   "cell_type": "code",
   "execution_count": 9,
   "metadata": {},
   "outputs": [
    {
     "name": "stdout",
     "output_type": "stream",
     "text": [
      "\n",
      ". constraint define 1 _b[ddipl1_dum2] = _b[ddipl1_dum3]\n",
      "\n",
      ". cnsreg lw male agd agd2 ddipl1_dum*, constraint(1)\n",
      "note: ddipl1_dum6 omitted because of collinearity.\n",
      "\n",
      "Constrained linear regression                          Number of obs =  52,835\n",
      "                                                       F(7, 52827)   = 2336.39\n",
      "                                                       Prob > F      =  0.0000\n",
      "                                                       Root MSE      =  0.5713\n",
      "\n",
      " ( 1)  ddipl1_dum2 - ddipl1_dum3 = 0\n",
      "------------------------------------------------------------------------------\n",
      "          lw | Coefficient  Std. err.      t    P>|t|     [95% conf. interval]\n",
      "-------------+----------------------------------------------------------------\n",
      "        male |   .3668036   .0050141    73.15   0.000     .3569759    .3766314\n",
      "         agd |   .0571367   .0017824    32.06   0.000     .0536431    .0606302\n",
      "        agd2 |  -.0005562    .000022   -25.29   0.000    -.0005993   -.0005131\n",
      " ddipl1_dum1 |  -.8200572    .009089   -90.23   0.000    -.8378716   -.8022428\n",
      " ddipl1_dum2 |  -.5845513   .0083507   -70.00   0.000    -.6009187   -.5681839\n",
      " ddipl1_dum3 |  -.5845513   .0083507   -70.00   0.000    -.6009187   -.5681839\n",
      " ddipl1_dum4 |  -.4207597   .0097442   -43.18   0.000    -.4398585    -.401661\n",
      " ddipl1_dum5 |   -.217273   .0099482   -21.84   0.000    -.2367716   -.1977744\n",
      " ddipl1_dum6 |          0  (omitted)\n",
      "       _cons |   7.919417   .0353509   224.02   0.000     7.850129    7.988705\n",
      "------------------------------------------------------------------------------\n",
      "\n",
      ". \n"
     ]
    }
   ],
   "source": [
    "%%stata\n",
    "constraint define 1 _b[ddipl1_dum2] = _b[ddipl1_dum3]\n",
    "cnsreg lw male agd agd2 ddipl1_dum*, constraint(1)"
   ]
  },
  {
   "cell_type": "markdown",
   "metadata": {},
   "source": [
    "Q10 Regress log(salfr) on gender (variable s), age, age squared."
   ]
  },
  {
   "cell_type": "code",
   "execution_count": 10,
   "metadata": {},
   "outputs": [
    {
     "name": "stdout",
     "output_type": "stream",
     "text": [
      "\n",
      "      Source |       SS           df       MS      Number of obs   =    52,837\n",
      "-------------+----------------------------------   F(3, 52833)     =   1688.53\n",
      "       Model |  1975.59931         3  658.533104   Prob > F        =    0.0000\n",
      "    Residual |  20605.0448    52,833  .390003309   R-squared       =    0.0875\n",
      "-------------+----------------------------------   Adj R-squared   =    0.0874\n",
      "       Total |  22580.6441    52,836  .427372324   Root MSE        =     .6245\n",
      "\n",
      "------------------------------------------------------------------------------\n",
      "          lw | Coefficient  Std. err.      t    P>|t|     [95% conf. interval]\n",
      "-------------+----------------------------------------------------------------\n",
      "        male |   .3264999   .0054423    59.99   0.000     .3158329    .3371669\n",
      "         agd |   .0565733   .0019433    29.11   0.000     .0527645    .0603822\n",
      "        agd2 |  -.0006036    .000024   -25.17   0.000    -.0006506   -.0005566\n",
      "       _cons |   7.549446    .037765   199.91   0.000     7.475427    7.623466\n",
      "------------------------------------------------------------------------------\n"
     ]
    }
   ],
   "source": [
    "%%stata\n",
    "reg lw male agd agd2"
   ]
  },
  {
   "cell_type": "markdown",
   "metadata": {},
   "source": [
    "Q11 Create a global variable containing SSR for that model."
   ]
  },
  {
   "cell_type": "code",
   "execution_count": 11,
   "metadata": {},
   "outputs": [
    {
     "name": "stdout",
     "output_type": "stream",
     "text": [
      "\n",
      ". ereturn list\n",
      "\n",
      "scalars:\n",
      "                  e(N) =  52837\n",
      "              e(sum_w) =  52837\n",
      "               e(df_m) =  3\n",
      "               e(df_r) =  52833\n",
      "                  e(F) =  1688.532093365435\n",
      "                 e(r2) =  .0874908306168676\n",
      "               e(rmse) =  .62450244904602\n",
      "                e(mss) =  1975.599310609145\n",
      "                e(rss) =  20605.0448172369\n",
      "               e(r2_a) =  .0874390158891757\n",
      "                 e(ll) =  -50094.79413365701\n",
      "               e(ll_0) =  -52513.59656717326\n",
      "               e(rank) =  4\n",
      "\n",
      "macros:\n",
      "            e(cmdline) : \"regress lw male agd agd2\"\n",
      "              e(title) : \"Linear regression\"\n",
      "          e(marginsok) : \"XB default\"\n",
      "                e(vce) : \"ols\"\n",
      "             e(depvar) : \"lw\"\n",
      "                e(cmd) : \"regress\"\n",
      "         e(properties) : \"b V\"\n",
      "            e(predict) : \"regres_p\"\n",
      "              e(model) : \"ols\"\n",
      "          e(estat_cmd) : \"regress_estat\"\n",
      "\n",
      "matrices:\n",
      "                  e(b) :  1 x 4\n",
      "                  e(V) :  4 x 4\n",
      "               e(beta) :  1 x 3\n",
      "\n",
      "functions:\n",
      "             e(sample)   \n",
      "\n",
      ". global SSR2 = e(rss)\n",
      "\n",
      ". \n"
     ]
    }
   ],
   "source": [
    "%%stata\n",
    "ereturn list\n",
    "global SSR2 = e(rss)"
   ]
  },
  {
   "cell_type": "markdown",
   "metadata": {},
   "source": [
    "Q12 Create a global variable containing the Fisher statistic for the test that education has no effect.\n",
    "Compare with Stata output."
   ]
  },
  {
   "cell_type": "code",
   "execution_count": 12,
   "metadata": {},
   "outputs": [
    {
     "name": "stdout",
     "output_type": "stream",
     "text": [
      "\n",
      ". global F = (($SSR2 - $SSR) / ($K_plus_1 - 4)) / ($SSR / ($N - $K_plus_1))\n",
      "\n",
      ". display \"Fisher statistic: \" $F\n",
      "Fisher statistic: 2064.2905\n",
      "\n",
      ". \n"
     ]
    }
   ],
   "source": [
    "%%stata\n",
    "global F = (($SSR2 - $SSR) / ($K_plus_1 - 4)) / ($SSR / ($N - $K_plus_1))\n",
    "display \"Fisher statistic: \" $F"
   ]
  },
  {
   "cell_type": "markdown",
   "metadata": {},
   "source": [
    "The resulting F-stats here is very close to the one we get in Q7, in which we directly test the joint sigificance of the 5 parameters on education dummy variables."
   ]
  },
  {
   "cell_type": "markdown",
   "metadata": {},
   "source": [
    "Q13 Ask Stata to provide the 95th percentile of the Fisher distribution with the right degrees of freedom\n",
    "for the test. (Use command “display” and the Fisher CDF function.) What do you deduce?"
   ]
  },
  {
   "cell_type": "code",
   "execution_count": 13,
   "metadata": {},
   "outputs": [
    {
     "name": "stdout",
     "output_type": "stream",
     "text": [
      "Critical value: 2.2142687\n"
     ]
    }
   ],
   "source": [
    "%%stata\n",
    "display \"Critical value: \" invFtail($K_plus_1 - 4, $N - $K_plus_1, 0.05)"
   ]
  },
  {
   "cell_type": "markdown",
   "metadata": {},
   "source": [
    "Since the F-stats is greater than the critical value, we can reject the null hypothesis that the education level has no effects on log of wage."
   ]
  },
  {
   "cell_type": "markdown",
   "metadata": {},
   "source": [
    "Q14 Test H0: the effects of (dippl1==5) while being a woman is the same as the effect of (dippl1==3) while being a man. Follow these steps:\n",
    "\n",
    "(a) Set up the relevant hypothesis and t-statistic"
   ]
  },
  {
   "cell_type": "markdown",
   "metadata": {},
   "source": [
    "Effects of dippl1==5 while being a woman=$\\beta_0+\\beta_{dippl1_5}$\n",
    "\n",
    "Effects of dippl1==3 while being a man=$\\beta_0+\\beta_{male}+\\beta_{dippl1_3}$\n",
    "\n",
    "Null Hypothesis: $\\beta_0+\\beta_{dippl1_5}-(\\beta_0+\\beta_{male}+\\beta_{dippl1_3})=\\beta_{dippl1_5}-\\beta_{male}-\\beta_{dippl1_3}=0$\n",
    "\n",
    "Alternative Hypothesis: $\\beta_{dippl1_5}-\\beta_{male}-\\beta_{dippl1_3}\\ne 0$\n",
    "\n",
    "$t-stats=\\frac{\\beta_5-\\beta_3-\\beta_{male}}{SE}$"
   ]
  },
  {
   "cell_type": "markdown",
   "metadata": {},
   "source": [
    "\n",
    "(b) Compute its standard error using the Delta method"
   ]
  },
  {
   "cell_type": "markdown",
   "metadata": {},
   "source": [
    "We define $\\theta=\\beta_{dippl1_5}-\\beta_{male}-\\beta_{dippl1_3}$\n",
    "\n",
    "Using the Delta Method we have\n",
    "\n",
    " $Var(\\hat{\\theta})$\n",
    " \n",
    " $=\\begin{bmatrix} 1 & -1 & -1 \\end{bmatrix} \\begin{bmatrix} Var(\\beta_{dippl1_5}) & Cov(\\beta_{male},\\beta_{dippl1_5}) & Cov(\\beta_{dippl1_3},\\beta_{dippl1_5})\\\\Cov(\\beta_{male},\\beta_{dippl1_5}) & Var(\\beta_{male}) & Cov(\\beta_{male},\\beta_{dippl1_3})\\\\Cov(\\beta_{dippl1_3},\\beta_{dippl1_5}) & Cov(\\beta_{male},\\beta_{dippl1_3}) & Var(\\beta_{dippl1_3}) \\end{bmatrix}\\begin{bmatrix}1\\\\-1\\\\-1\\end{bmatrix}$\n",
    "\n",
    "And hence $SE=\\sqrt{Var(\\hat{\\theta})}$\n",
    "\n"
   ]
  },
  {
   "cell_type": "code",
   "execution_count": 14,
   "metadata": {},
   "outputs": [
    {
     "name": "stdout",
     "output_type": "stream",
     "text": [
      "\n",
      ". reg lw male agd agd2 ddipl1_dum*\n",
      "note: ddipl1_dum6 omitted because of collinearity.\n",
      "\n",
      "      Source |       SS           df       MS      Number of obs   =    52,835\n",
      "-------------+----------------------------------   F(8, 52826)     =   2045.66\n",
      "       Model |  5339.99388         8  667.499234   Prob > F        =    0.0000\n",
      "    Residual |  17237.1499    52,826  .326300493   R-squared       =    0.2365\n",
      "-------------+----------------------------------   Adj R-squared   =    0.2364\n",
      "       Total |  22577.1437    52,834   .42732225   Root MSE        =    .57123\n",
      "\n",
      "------------------------------------------------------------------------------\n",
      "          lw | Coefficient  Std. err.      t    P>|t|     [95% conf. interval]\n",
      "-------------+----------------------------------------------------------------\n",
      "        male |   .3676793    .005023    73.20   0.000     .3578342    .3775245\n",
      "         agd |   .0572084   .0017825    32.09   0.000     .0537147     .060702\n",
      "        agd2 |  -.0005573    .000022   -25.34   0.000    -.0006004   -.0005142\n",
      " ddipl1_dum1 |  -.8199959   .0090884   -90.22   0.000    -.8378092   -.8021827\n",
      " ddipl1_dum2 |  -.5609542   .0117026   -47.93   0.000    -.5838915   -.5380169\n",
      " ddipl1_dum3 |  -.5903601   .0085906   -68.72   0.000    -.6071977   -.5735225\n",
      " ddipl1_dum4 |  -.4207733   .0097435   -43.18   0.000    -.4398708   -.4016759\n",
      " ddipl1_dum5 |  -.2172493   .0099475   -21.84   0.000    -.2367465    -.197752\n",
      " ddipl1_dum6 |          0  (omitted)\n",
      "       _cons |   7.918035   .0353517   223.98   0.000     7.848746    7.987325\n",
      "------------------------------------------------------------------------------\n",
      "\n",
      ". ereturn list\n",
      "\n",
      "scalars:\n",
      "                  e(N) =  52835\n",
      "              e(sum_w) =  52835\n",
      "               e(df_m) =  8\n",
      "               e(df_r) =  52826\n",
      "                  e(F) =  2045.65806153759\n",
      "                 e(r2) =  .2365221189753191\n",
      "               e(rmse) =  .5712271818146846\n",
      "                e(mss) =  5339.993875905373\n",
      "                e(rss) =  17237.14985610473\n",
      "               e(r2_a) =  .2364064974433424\n",
      "                 e(ll) =  -45379.1928455106\n",
      "               e(ll_0) =  -52508.51329657075\n",
      "               e(rank) =  9\n",
      "\n",
      "macros:\n",
      "            e(cmdline) : \"regress lw male agd agd2 ddipl1_dum*\"\n",
      "              e(title) : \"Linear regression\"\n",
      "          e(marginsok) : \"XB default\"\n",
      "                e(vce) : \"ols\"\n",
      "             e(depvar) : \"lw\"\n",
      "                e(cmd) : \"regress\"\n",
      "         e(properties) : \"b V\"\n",
      "            e(predict) : \"regres_p\"\n",
      "              e(model) : \"ols\"\n",
      "          e(estat_cmd) : \"regress_estat\"\n",
      "\n",
      "matrices:\n",
      "                  e(b) :  1 x 10\n",
      "                  e(V) :  10 x 10\n",
      "               e(beta) :  1 x 9\n",
      "\n",
      "functions:\n",
      "             e(sample)   \n",
      "\n",
      ". matrix A=e(V)\n",
      "\n",
      ". matrix B=e(b)\n",
      "\n",
      ". global dum5=A[8,8]\n",
      "\n",
      ". global dum3=A[6,6]\n",
      "\n",
      ". global male=A[1,1]\n",
      "\n",
      ". global male_dum5=A[1,8]\n",
      "\n",
      ". global male_dum3=A[1,6]\n",
      "\n",
      ". global dum3_dum5=A[6,8]\n",
      "\n",
      ". global b_male=B[1,1]\n",
      "\n",
      ". global b_dum3=B[1,6]\n",
      "\n",
      ". global b_dum5=B[1,8]\n",
      "\n",
      ". matrix omega =($dum5,$male_dum5,$dum3_dum5 \\ $male_dum5,$male,$male_dum3 \\ $d\n",
      "> um3_dum5,$male_dum3,$dum3)\n",
      "\n",
      ". matrix J=(1,-1,-1)\n",
      "\n",
      ". matrix Delta=J*omega*J'\n",
      "\n",
      ". global V=Delta[1,1]\n",
      "\n",
      ". global t=($b_dum5-$b_dum3-$b_male)/sqrt($V)\n",
      "\n",
      ". display \"t-statistic: \" $t\n",
      "t-statistic: .59657986\n",
      "\n",
      ". \n"
     ]
    }
   ],
   "source": [
    "%%stata\n",
    "reg lw male agd agd2 ddipl1_dum*\n",
    "ereturn list\n",
    "matrix A=e(V)\n",
    "matrix B=e(b)\n",
    "global dum5=A[8,8]\n",
    "global dum3=A[6,6]\n",
    "global male=A[1,1]\n",
    "global male_dum5=A[1,8]\n",
    "global male_dum3=A[1,6]\n",
    "global dum3_dum5=A[6,8]\n",
    "global b_male=B[1,1]\n",
    "global b_dum3=B[1,6]\n",
    "global b_dum5=B[1,8]\n",
    "matrix omega =($dum5,$male_dum5,$dum3_dum5 \\ $male_dum5,$male,$male_dum3 \\ $dum3_dum5,$male_dum3,$dum3)\n",
    "matrix J=(1,-1,-1)\n",
    "matrix Delta=J*omega*J'\n",
    "global V=Delta[1,1]\n",
    "global t=($b_dum5-$b_dum3-$b_male)/sqrt($V)\n",
    "display \"t-statistic: \" $t"
   ]
  },
  {
   "cell_type": "markdown",
   "metadata": {},
   "source": [
    "(c) Conclude"
   ]
  },
  {
   "cell_type": "markdown",
   "metadata": {},
   "source": [
    "Since the t-value is less than 1.96, we cannot reject the null hypothesis that the two groups have same effects on log of wage."
   ]
  },
  {
   "cell_type": "markdown",
   "metadata": {},
   "source": [
    "Found a package to solve this."
   ]
  },
  {
   "cell_type": "code",
   "execution_count": 15,
   "metadata": {},
   "outputs": [
    {
     "name": "stdout",
     "output_type": "stream",
     "text": [
      "\n",
      " ( 1)  - male - ddipl1_dum3 + ddipl1_dum5 = 0\n",
      "\n",
      "------------------------------------------------------------------------------\n",
      "          lw | Coefficient  Std. err.      t    P>|t|     [95% conf. interval]\n",
      "-------------+----------------------------------------------------------------\n",
      "         (1) |   .0054315   .0091043     0.60   0.551    -.0124131     .023276\n",
      "------------------------------------------------------------------------------\n"
     ]
    }
   ],
   "source": [
    "%%stata\n",
    "lincom ddipl1_dum5-ddipl1_dum3-male"
   ]
  }
 ],
 "metadata": {
  "kernelspec": {
   "display_name": "Python 3",
   "language": "python",
   "name": "python3"
  },
  "language_info": {
   "codemirror_mode": {
    "name": "ipython",
    "version": 3
   },
   "file_extension": ".py",
   "mimetype": "text/x-python",
   "name": "python",
   "nbconvert_exporter": "python",
   "pygments_lexer": "ipython3",
   "version": "3.13.2"
  }
 },
 "nbformat": 4,
 "nbformat_minor": 2
}
